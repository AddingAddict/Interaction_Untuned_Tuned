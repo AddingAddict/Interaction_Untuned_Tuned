{
 "cells": [
  {
   "cell_type": "code",
   "execution_count": 1,
   "id": "cc8bd2c0",
   "metadata": {},
   "outputs": [],
   "source": [
    "import sys\n",
    "sys.path.insert(0, \"./../../scripts\")"
   ]
  },
  {
   "cell_type": "code",
   "execution_count": 2,
   "id": "4a2021c2",
   "metadata": {},
   "outputs": [],
   "source": [
    "import pickle\n",
    "import numpy as np\n",
    "import matplotlib.pyplot as plt\n",
    "from mpl_toolkits.axes_grid1 import make_axes_locatable\n",
    "\n",
    "def imshowbar(fig,ax,A,showbar=True,**kwargs):\n",
    "    imsh = ax.imshow(A,**kwargs)\n",
    "    if showbar:\n",
    "        divider = make_axes_locatable(ax)\n",
    "        cax = divider.append_axes(\"right\", size=\"5%\", pad=0.05)\n",
    "        cbar = fig.colorbar(imsh, cax=cax, orientation=\"vertical\")\n",
    "        return cbar"
   ]
  },
  {
   "cell_type": "code",
   "execution_count": null,
   "id": "101f209a",
   "metadata": {},
   "outputs": [],
   "source": []
  }
 ],
 "metadata": {
  "kernelspec": {
   "display_name": "default",
   "language": "python",
   "name": "python3"
  },
  "language_info": {
   "codemirror_mode": {
    "name": "ipython",
    "version": 3
   },
   "file_extension": ".py",
   "mimetype": "text/x-python",
   "name": "python",
   "nbconvert_exporter": "python",
   "pygments_lexer": "ipython3",
   "version": "3.13.1"
  }
 },
 "nbformat": 4,
 "nbformat_minor": 5
}
